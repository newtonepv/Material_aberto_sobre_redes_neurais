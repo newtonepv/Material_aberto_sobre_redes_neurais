{
 "cells": [
  {
   "cell_type": "code",
   "execution_count": 14,
   "id": "3dff2f74",
   "metadata": {},
   "outputs": [
    {
     "data": {
      "text/plain": [
       "tensor([0.1576])"
      ]
     },
     "execution_count": 14,
     "metadata": {},
     "output_type": "execute_result"
    }
   ],
   "source": [
    "import torch\n",
    "def t(value):\n",
    "    return torch.Tensor([value]).requires_grad_(True)\n",
    "\n",
    "a=t(343.212)\n",
    "b=t(543)\n",
    "c=t(5.3)\n",
    "d=t(54.1)\n",
    "\n",
    "erro = (5+a)*b+(c*d/a)\n",
    "\n",
    "erro.backward()\n",
    "c.grad"
   ]
  }
 ],
 "metadata": {
  "kernelspec": {
   "display_name": "aulas_redes_neurais",
   "language": "python",
   "name": "python3"
  },
  "language_info": {
   "codemirror_mode": {
    "name": "ipython",
    "version": 3
   },
   "file_extension": ".py",
   "mimetype": "text/x-python",
   "name": "python",
   "nbconvert_exporter": "python",
   "pygments_lexer": "ipython3",
   "version": "3.13.3"
  }
 },
 "nbformat": 4,
 "nbformat_minor": 5
}
