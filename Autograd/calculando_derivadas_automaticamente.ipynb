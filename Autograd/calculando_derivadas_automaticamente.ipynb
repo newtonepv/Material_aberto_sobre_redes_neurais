{
 "cells": [
  {
   "cell_type": "code",
   "execution_count": 14,
   "id": "3dff2f74",
   "metadata": {},
   "outputs": [
    {
     "data": {
      "text/plain": [
       "tensor([0.1576])"
      ]
     },
     "execution_count": 14,
     "metadata": {},
     "output_type": "execute_result"
    }
   ],
   "source": [
    "import torch\n",
    "def t(value):\n",
    "    return torch.Tensor([value]).requires_grad_(True)\n",
    "\n",
    "a=t(343.212)\n",
    "b=t(543)\n",
    "c=t(5.3)\n",
    "d=t(54.1)\n",
    "\n",
    "erro = (5+a)*b+(c*d/a)\n",
    "\n",
    "erro.backward()\n",
    "c.grad"
   ]
  },
  {
   "cell_type": "code",
   "execution_count": null,
   "id": "18b3c234",
   "metadata": {},
   "outputs": [
    {
     "name": "stdout",
     "output_type": "stream",
     "text": [
      "num: 43.6 grad: 0 anteriores [42.4, 1.2]\n",
      "2\n"
     ]
    }
   ],
   "source": [
    "import math\n",
    "class Drv:\n",
    "    def __init__(self,num):\n",
    "        self.num=num\n",
    "        self.grad=0\n",
    "        self.ant = ()\n",
    "        self._backward = lambda: None\n",
    "\n",
    "    def __str__(self):\n",
    "        return f\"num: {self.num} grad: {self.grad} anteriores {[a.num for a in self.ant]}\"\n",
    "    \n",
    "    def __add__(self,outro):\n",
    "        novo = Drv(self.num+outro.num)\n",
    "        novo.ant = (self,outro)\n",
    "        def drv_adicao():\n",
    "            self.grad+=1*novo.grad\n",
    "            outro.grad+=1*novo.grad\n",
    "        novo._backward = drv_adicao\n",
    "        return novo\n",
    "    \n",
    "    def __mul__(self,outro):\n",
    "        novo = Drv(self.num*outro.num)\n",
    "        novo.ant = (self,outro)\n",
    "        def drv_mult():\n",
    "            self.grad+=outro.num*novo.grad\n",
    "            outro.grad+=self.num*novo.grad\n",
    "        novo._backward = drv_mult\n",
    "        return novo\n",
    "    \n",
    "    def sig(self):\n",
    "        x = self.num\n",
    "        \n",
    "        if(x>15):\n",
    "            sigx=0.99999\n",
    "        elif(x<-15):\n",
    "            sigx=0.00001\n",
    "        else:\n",
    "            sigx = 1/1+math.exp(-x)\n",
    "\n",
    "        novo = Drv(sigx)\n",
    "        novo.ant=(self,)\n",
    "        def drv_sig():\n",
    "            self.grad+= sigx*(1-sigx)*novo.grad\n",
    "        novo._backward=drv_sig\n",
    "        return novo\n",
    "\n",
    "    def setar_derivadas_em_todos_os_anteriores(self):\n",
    "        ordem_topo=[]\n",
    "        visitados=set()\n",
    "        def construir_ordem_topo(no:Drv):\n",
    "            if no not in visitados:\n",
    "                visitados.add(no)\n",
    "                for var in no.ant:\n",
    "                    construir_ordem_topo(var)\n",
    "                ordem_topo.append(no)\n",
    "        construir_ordem_topo(self)\n",
    "\n",
    "        self.grad=1\n",
    "        for dr in reversed(ordem_topo):\n",
    "            dr._backward()\n",
    "    "
   ]
  },
  {
   "cell_type": "code",
   "execution_count": null,
   "id": "2a7c1685",
   "metadata": {},
   "outputs": [],
   "source": []
  }
 ],
 "metadata": {
  "kernelspec": {
   "display_name": "Python 3",
   "language": "python",
   "name": "python3"
  },
  "language_info": {
   "codemirror_mode": {
    "name": "ipython",
    "version": 3
   },
   "file_extension": ".py",
   "mimetype": "text/x-python",
   "name": "python",
   "nbconvert_exporter": "python",
   "pygments_lexer": "ipython3",
   "version": "3.12.4"
  }
 },
 "nbformat": 4,
 "nbformat_minor": 5
}
